import pandas as pd
import matplotlib.pyplot as plt
import seaborn as sns
sns.set(style="whitegrid")

df_vm = pd.read_csv("../results/benchmark_vm.csv")
df_docker = pd.read_csv("../results/benchmark_docker.csv")
df_vm["environment"] = "VM"
df_docker["environment"] = "Docker"
df = pd.concat([df_vm, df_docker], ignore_index=True)

plt.figure(figsize=(10, 6))
sns.lineplot(data=df, x="timestamp", y="latency_ms", hue="environment", marker="o")
plt.title("Comparación de Latencia: VM vs Docker")
plt.xlabel("Timestamp")
plt.ylabel("Latencia (ms)")
plt.xticks(rotation=45)
plt.tight_layout()
plt.show()

plt.figure(figsize=(10, 6))
sns.lineplot(data=df, x="timestamp", y="cpu_usage_percent", hue="environment", marker="o")
plt.title("Uso de CPU: VM vs Docker")
plt.xlabel("Timestamp")
plt.ylabel("CPU (%)")
plt.xticks(rotation=45)
plt.tight_layout()
plt.show()

plt.figure(figsize=(10, 6))
sns.lineplot(data=df, x="timestamp", y="ram_usage_mb", hue="environment", marker="o")
plt.title("Uso de RAM: VM vs Docker")
plt.xlabel("Timestamp")
plt.ylabel("RAM (MB)")
plt.xticks(rotation=45)
plt.tight_layout()
plt.show()
